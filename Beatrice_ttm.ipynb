{
  "nbformat": 4,
  "nbformat_minor": 0,
  "metadata": {
    "colab": {
      "provenance": [],
      "gpuType": "T4",
      "authorship_tag": "ABX9TyPpxg3wfZKwJIztMPq8psqq",
      "include_colab_link": true
    },
    "kernelspec": {
      "name": "python3",
      "display_name": "Python 3"
    },
    "language_info": {
      "name": "python"
    },
    "accelerator": "GPU"
  },
  "cells": [
    {
      "cell_type": "markdown",
      "metadata": {
        "id": "view-in-github",
        "colab_type": "text"
      },
      "source": [
        "<a href=\"https://colab.research.google.com/github/aaron-v19/mlprojects/blob/main/Beatrice_ttm.ipynb\" target=\"_parent\"><img src=\"https://colab.research.google.com/assets/colab-badge.svg\" alt=\"Open In Colab\"/></a>"
      ]
    },
    {
      "cell_type": "code",
      "execution_count": 15,
      "metadata": {
        "colab": {
          "base_uri": "https://localhost:8080/"
        },
        "id": "UyT551_QoKKK",
        "outputId": "0befd816-ed35-4f27-e9ca-e878591e451b"
      },
      "outputs": [
        {
          "output_type": "stream",
          "name": "stdout",
          "text": [
            "Mounted at /content/drive\n"
          ]
        }
      ],
      "source": [
        "from google.colab import drive\n",
        "drive.mount('/content/drive')"
      ]
    },
    {
      "cell_type": "markdown",
      "source": [
        "# Installation"
      ],
      "metadata": {
        "id": "XRP-bK-zouLs"
      }
    },
    {
      "cell_type": "code",
      "source": [
        "# Clone the ibm/tsfm\n",
        "! git clone https://github.com/IBM/tsfm.git"
      ],
      "metadata": {
        "colab": {
          "base_uri": "https://localhost:8080/"
        },
        "id": "znCp3YIPoy5O",
        "outputId": "e505b82e-5086-4fb4-806e-42cf26f82daf"
      },
      "execution_count": 2,
      "outputs": [
        {
          "output_type": "stream",
          "name": "stdout",
          "text": [
            "fatal: destination path 'tsfm' already exists and is not an empty directory.\n"
          ]
        }
      ]
    },
    {
      "cell_type": "code",
      "source": [
        "# Change directory. Move inside the tsfm repo.\n",
        "%cd tsfm"
      ],
      "metadata": {
        "colab": {
          "base_uri": "https://localhost:8080/"
        },
        "id": "vAtWFEqBo2Vg",
        "outputId": "cda3beaa-9862-4cac-e18e-973f5b1d49d1"
      },
      "execution_count": 3,
      "outputs": [
        {
          "output_type": "stream",
          "name": "stdout",
          "text": [
            "/content/tsfm\n"
          ]
        }
      ]
    },
    {
      "cell_type": "code",
      "source": [
        "# Do ls\n",
        "! ls"
      ],
      "metadata": {
        "colab": {
          "base_uri": "https://localhost:8080/"
        },
        "id": "ESx0td0fo750",
        "outputId": "631911f1-cd24-4a44-eab7-83ead6381536"
      },
      "execution_count": 4,
      "outputs": [
        {
          "output_type": "stream",
          "name": "stdout",
          "text": [
            "build\t Makefile   pyproject.toml  scripts   tests\t   tsfm_public\t\t wiki.md\n",
            "LICENSE  notebooks  README.md\t    services  tsfmhfdemos  tsfm_public.egg-info\n"
          ]
        }
      ]
    },
    {
      "cell_type": "code",
      "source": [
        "# Install the tsfm library\n",
        "! pip install \".[notebooks]\""
      ],
      "metadata": {
        "colab": {
          "base_uri": "https://localhost:8080/"
        },
        "id": "kPEwzcjho8pj",
        "outputId": "dc554424-9c1a-4244-a63f-0a6e21734811"
      },
      "execution_count": 5,
      "outputs": [
        {
          "output_type": "stream",
          "name": "stdout",
          "text": [
            "Processing /content/tsfm\n",
            "  Installing build dependencies ... \u001b[?25l\u001b[?25hdone\n",
            "  Getting requirements to build wheel ... \u001b[?25l\u001b[?25hdone\n",
            "  Preparing metadata (pyproject.toml) ... \u001b[?25l\u001b[?25hdone\n",
            "Requirement already satisfied: pandas>=2.2.0 in /usr/local/lib/python3.11/dist-packages (from tsfm_public==0.2.19.dev7+g397c895) (2.2.2)\n",
            "Requirement already satisfied: scikit-learn in /usr/local/lib/python3.11/dist-packages (from tsfm_public==0.2.19.dev7+g397c895) (1.6.1)\n",
            "Requirement already satisfied: transformers>=4.38.0 in /usr/local/lib/python3.11/dist-packages (from transformers[torch]>=4.38.0->tsfm_public==0.2.19.dev7+g397c895) (4.47.1)\n",
            "Requirement already satisfied: datasets in /usr/local/lib/python3.11/dist-packages (from tsfm_public==0.2.19.dev7+g397c895) (3.2.0)\n",
            "Requirement already satisfied: deprecated in /usr/local/lib/python3.11/dist-packages (from tsfm_public==0.2.19.dev7+g397c895) (1.2.18)\n",
            "Requirement already satisfied: urllib3<2,>=1.26.19 in /usr/local/lib/python3.11/dist-packages (from tsfm_public==0.2.19.dev7+g397c895) (1.26.20)\n",
            "Requirement already satisfied: numpy<2 in /usr/local/lib/python3.11/dist-packages (from tsfm_public==0.2.19.dev7+g397c895) (1.26.4)\n",
            "Requirement already satisfied: jupyter in /usr/local/lib/python3.11/dist-packages (from tsfm_public==0.2.19.dev7+g397c895) (1.1.1)\n",
            "Requirement already satisfied: matplotlib in /usr/local/lib/python3.11/dist-packages (from tsfm_public==0.2.19.dev7+g397c895) (3.10.0)\n",
            "Requirement already satisfied: ipywidgets in /usr/local/lib/python3.11/dist-packages (from tsfm_public==0.2.19.dev7+g397c895) (7.7.1)\n",
            "Requirement already satisfied: plotly in /usr/local/lib/python3.11/dist-packages (from tsfm_public==0.2.19.dev7+g397c895) (5.24.1)\n",
            "Requirement already satisfied: kaleido in /usr/local/lib/python3.11/dist-packages (from tsfm_public==0.2.19.dev7+g397c895) (0.2.1)\n",
            "Requirement already satisfied: tensorboard in /usr/local/lib/python3.11/dist-packages (from tsfm_public==0.2.19.dev7+g397c895) (2.18.0)\n",
            "Requirement already satisfied: python-dateutil>=2.8.2 in /usr/local/lib/python3.11/dist-packages (from pandas>=2.2.0->tsfm_public==0.2.19.dev7+g397c895) (2.8.2)\n",
            "Requirement already satisfied: pytz>=2020.1 in /usr/local/lib/python3.11/dist-packages (from pandas>=2.2.0->tsfm_public==0.2.19.dev7+g397c895) (2024.2)\n",
            "Requirement already satisfied: tzdata>=2022.7 in /usr/local/lib/python3.11/dist-packages (from pandas>=2.2.0->tsfm_public==0.2.19.dev7+g397c895) (2025.1)\n",
            "Requirement already satisfied: filelock in /usr/local/lib/python3.11/dist-packages (from transformers>=4.38.0->transformers[torch]>=4.38.0->tsfm_public==0.2.19.dev7+g397c895) (3.17.0)\n",
            "Requirement already satisfied: huggingface-hub<1.0,>=0.24.0 in /usr/local/lib/python3.11/dist-packages (from transformers>=4.38.0->transformers[torch]>=4.38.0->tsfm_public==0.2.19.dev7+g397c895) (0.27.1)\n",
            "Requirement already satisfied: packaging>=20.0 in /usr/local/lib/python3.11/dist-packages (from transformers>=4.38.0->transformers[torch]>=4.38.0->tsfm_public==0.2.19.dev7+g397c895) (24.2)\n",
            "Requirement already satisfied: pyyaml>=5.1 in /usr/local/lib/python3.11/dist-packages (from transformers>=4.38.0->transformers[torch]>=4.38.0->tsfm_public==0.2.19.dev7+g397c895) (6.0.2)\n",
            "Requirement already satisfied: regex!=2019.12.17 in /usr/local/lib/python3.11/dist-packages (from transformers>=4.38.0->transformers[torch]>=4.38.0->tsfm_public==0.2.19.dev7+g397c895) (2024.11.6)\n",
            "Requirement already satisfied: requests in /usr/local/lib/python3.11/dist-packages (from transformers>=4.38.0->transformers[torch]>=4.38.0->tsfm_public==0.2.19.dev7+g397c895) (2.32.3)\n",
            "Requirement already satisfied: tokenizers<0.22,>=0.21 in /usr/local/lib/python3.11/dist-packages (from transformers>=4.38.0->transformers[torch]>=4.38.0->tsfm_public==0.2.19.dev7+g397c895) (0.21.0)\n",
            "Requirement already satisfied: safetensors>=0.4.1 in /usr/local/lib/python3.11/dist-packages (from transformers>=4.38.0->transformers[torch]>=4.38.0->tsfm_public==0.2.19.dev7+g397c895) (0.5.2)\n",
            "Requirement already satisfied: tqdm>=4.27 in /usr/local/lib/python3.11/dist-packages (from transformers>=4.38.0->transformers[torch]>=4.38.0->tsfm_public==0.2.19.dev7+g397c895) (4.67.1)\n",
            "Requirement already satisfied: torch in /usr/local/lib/python3.11/dist-packages (from transformers[torch]>=4.38.0->tsfm_public==0.2.19.dev7+g397c895) (2.5.1+cu124)\n",
            "Requirement already satisfied: accelerate>=0.26.0 in /usr/local/lib/python3.11/dist-packages (from transformers[torch]>=4.38.0->tsfm_public==0.2.19.dev7+g397c895) (1.2.1)\n",
            "Requirement already satisfied: pyarrow>=15.0.0 in /usr/local/lib/python3.11/dist-packages (from datasets->tsfm_public==0.2.19.dev7+g397c895) (17.0.0)\n",
            "Requirement already satisfied: dill<0.3.9,>=0.3.0 in /usr/local/lib/python3.11/dist-packages (from datasets->tsfm_public==0.2.19.dev7+g397c895) (0.3.8)\n",
            "Requirement already satisfied: xxhash in /usr/local/lib/python3.11/dist-packages (from datasets->tsfm_public==0.2.19.dev7+g397c895) (3.5.0)\n",
            "Requirement already satisfied: multiprocess<0.70.17 in /usr/local/lib/python3.11/dist-packages (from datasets->tsfm_public==0.2.19.dev7+g397c895) (0.70.16)\n",
            "Requirement already satisfied: fsspec<=2024.9.0,>=2023.1.0 in /usr/local/lib/python3.11/dist-packages (from fsspec[http]<=2024.9.0,>=2023.1.0->datasets->tsfm_public==0.2.19.dev7+g397c895) (2024.9.0)\n",
            "Requirement already satisfied: aiohttp in /usr/local/lib/python3.11/dist-packages (from datasets->tsfm_public==0.2.19.dev7+g397c895) (3.11.11)\n",
            "Requirement already satisfied: wrapt<2,>=1.10 in /usr/local/lib/python3.11/dist-packages (from deprecated->tsfm_public==0.2.19.dev7+g397c895) (1.17.2)\n",
            "Requirement already satisfied: ipykernel>=4.5.1 in /usr/local/lib/python3.11/dist-packages (from ipywidgets->tsfm_public==0.2.19.dev7+g397c895) (6.29.5)\n",
            "Requirement already satisfied: ipython-genutils~=0.2.0 in /usr/local/lib/python3.11/dist-packages (from ipywidgets->tsfm_public==0.2.19.dev7+g397c895) (0.2.0)\n",
            "Requirement already satisfied: traitlets>=4.3.1 in /usr/local/lib/python3.11/dist-packages (from ipywidgets->tsfm_public==0.2.19.dev7+g397c895) (5.7.1)\n",
            "Requirement already satisfied: widgetsnbextension~=3.6.0 in /usr/local/lib/python3.11/dist-packages (from ipywidgets->tsfm_public==0.2.19.dev7+g397c895) (3.6.10)\n",
            "Requirement already satisfied: ipython>=4.0.0 in /usr/local/lib/python3.11/dist-packages (from ipywidgets->tsfm_public==0.2.19.dev7+g397c895) (7.34.0)\n",
            "Requirement already satisfied: jupyterlab-widgets>=1.0.0 in /usr/local/lib/python3.11/dist-packages (from ipywidgets->tsfm_public==0.2.19.dev7+g397c895) (3.0.13)\n",
            "Requirement already satisfied: notebook in /usr/local/lib/python3.11/dist-packages (from jupyter->tsfm_public==0.2.19.dev7+g397c895) (6.5.5)\n",
            "Requirement already satisfied: jupyter-console in /usr/local/lib/python3.11/dist-packages (from jupyter->tsfm_public==0.2.19.dev7+g397c895) (6.1.0)\n",
            "Requirement already satisfied: nbconvert in /usr/local/lib/python3.11/dist-packages (from jupyter->tsfm_public==0.2.19.dev7+g397c895) (7.16.6)\n",
            "Requirement already satisfied: jupyterlab in /usr/local/lib/python3.11/dist-packages (from jupyter->tsfm_public==0.2.19.dev7+g397c895) (4.3.5)\n",
            "Requirement already satisfied: contourpy>=1.0.1 in /usr/local/lib/python3.11/dist-packages (from matplotlib->tsfm_public==0.2.19.dev7+g397c895) (1.3.1)\n",
            "Requirement already satisfied: cycler>=0.10 in /usr/local/lib/python3.11/dist-packages (from matplotlib->tsfm_public==0.2.19.dev7+g397c895) (0.12.1)\n",
            "Requirement already satisfied: fonttools>=4.22.0 in /usr/local/lib/python3.11/dist-packages (from matplotlib->tsfm_public==0.2.19.dev7+g397c895) (4.55.7)\n",
            "Requirement already satisfied: kiwisolver>=1.3.1 in /usr/local/lib/python3.11/dist-packages (from matplotlib->tsfm_public==0.2.19.dev7+g397c895) (1.4.8)\n",
            "Requirement already satisfied: pillow>=8 in /usr/local/lib/python3.11/dist-packages (from matplotlib->tsfm_public==0.2.19.dev7+g397c895) (11.1.0)\n",
            "Requirement already satisfied: pyparsing>=2.3.1 in /usr/local/lib/python3.11/dist-packages (from matplotlib->tsfm_public==0.2.19.dev7+g397c895) (3.2.1)\n",
            "Requirement already satisfied: tenacity>=6.2.0 in /usr/local/lib/python3.11/dist-packages (from plotly->tsfm_public==0.2.19.dev7+g397c895) (9.0.0)\n",
            "Requirement already satisfied: scipy>=1.6.0 in /usr/local/lib/python3.11/dist-packages (from scikit-learn->tsfm_public==0.2.19.dev7+g397c895) (1.13.1)\n",
            "Requirement already satisfied: joblib>=1.2.0 in /usr/local/lib/python3.11/dist-packages (from scikit-learn->tsfm_public==0.2.19.dev7+g397c895) (1.4.2)\n",
            "Requirement already satisfied: threadpoolctl>=3.1.0 in /usr/local/lib/python3.11/dist-packages (from scikit-learn->tsfm_public==0.2.19.dev7+g397c895) (3.5.0)\n",
            "Requirement already satisfied: absl-py>=0.4 in /usr/local/lib/python3.11/dist-packages (from tensorboard->tsfm_public==0.2.19.dev7+g397c895) (1.4.0)\n",
            "Requirement already satisfied: grpcio>=1.48.2 in /usr/local/lib/python3.11/dist-packages (from tensorboard->tsfm_public==0.2.19.dev7+g397c895) (1.70.0)\n",
            "Requirement already satisfied: markdown>=2.6.8 in /usr/local/lib/python3.11/dist-packages (from tensorboard->tsfm_public==0.2.19.dev7+g397c895) (3.7)\n",
            "Requirement already satisfied: protobuf!=4.24.0,>=3.19.6 in /usr/local/lib/python3.11/dist-packages (from tensorboard->tsfm_public==0.2.19.dev7+g397c895) (4.25.6)\n",
            "Requirement already satisfied: setuptools>=41.0.0 in /usr/local/lib/python3.11/dist-packages (from tensorboard->tsfm_public==0.2.19.dev7+g397c895) (75.1.0)\n",
            "Requirement already satisfied: six>1.9 in /usr/local/lib/python3.11/dist-packages (from tensorboard->tsfm_public==0.2.19.dev7+g397c895) (1.17.0)\n",
            "Requirement already satisfied: tensorboard-data-server<0.8.0,>=0.7.0 in /usr/local/lib/python3.11/dist-packages (from tensorboard->tsfm_public==0.2.19.dev7+g397c895) (0.7.2)\n",
            "Requirement already satisfied: werkzeug>=1.0.1 in /usr/local/lib/python3.11/dist-packages (from tensorboard->tsfm_public==0.2.19.dev7+g397c895) (3.1.3)\n",
            "Requirement already satisfied: psutil in /usr/local/lib/python3.11/dist-packages (from accelerate>=0.26.0->transformers[torch]>=4.38.0->tsfm_public==0.2.19.dev7+g397c895) (5.9.5)\n",
            "Requirement already satisfied: aiohappyeyeballs>=2.3.0 in /usr/local/lib/python3.11/dist-packages (from aiohttp->datasets->tsfm_public==0.2.19.dev7+g397c895) (2.4.4)\n",
            "Requirement already satisfied: aiosignal>=1.1.2 in /usr/local/lib/python3.11/dist-packages (from aiohttp->datasets->tsfm_public==0.2.19.dev7+g397c895) (1.3.2)\n",
            "Requirement already satisfied: attrs>=17.3.0 in /usr/local/lib/python3.11/dist-packages (from aiohttp->datasets->tsfm_public==0.2.19.dev7+g397c895) (25.1.0)\n",
            "Requirement already satisfied: frozenlist>=1.1.1 in /usr/local/lib/python3.11/dist-packages (from aiohttp->datasets->tsfm_public==0.2.19.dev7+g397c895) (1.5.0)\n",
            "Requirement already satisfied: multidict<7.0,>=4.5 in /usr/local/lib/python3.11/dist-packages (from aiohttp->datasets->tsfm_public==0.2.19.dev7+g397c895) (6.1.0)\n",
            "Requirement already satisfied: propcache>=0.2.0 in /usr/local/lib/python3.11/dist-packages (from aiohttp->datasets->tsfm_public==0.2.19.dev7+g397c895) (0.2.1)\n",
            "Requirement already satisfied: yarl<2.0,>=1.17.0 in /usr/local/lib/python3.11/dist-packages (from aiohttp->datasets->tsfm_public==0.2.19.dev7+g397c895) (1.18.3)\n",
            "Requirement already satisfied: typing-extensions>=3.7.4.3 in /usr/local/lib/python3.11/dist-packages (from huggingface-hub<1.0,>=0.24.0->transformers>=4.38.0->transformers[torch]>=4.38.0->tsfm_public==0.2.19.dev7+g397c895) (4.12.2)\n",
            "Requirement already satisfied: comm>=0.1.1 in /usr/local/lib/python3.11/dist-packages (from ipykernel>=4.5.1->ipywidgets->tsfm_public==0.2.19.dev7+g397c895) (0.2.2)\n",
            "Requirement already satisfied: debugpy>=1.6.5 in /usr/local/lib/python3.11/dist-packages (from ipykernel>=4.5.1->ipywidgets->tsfm_public==0.2.19.dev7+g397c895) (1.8.0)\n",
            "Requirement already satisfied: jupyter-client>=6.1.12 in /usr/local/lib/python3.11/dist-packages (from ipykernel>=4.5.1->ipywidgets->tsfm_public==0.2.19.dev7+g397c895) (7.4.9)\n",
            "Requirement already satisfied: jupyter-core!=5.0.*,>=4.12 in /usr/local/lib/python3.11/dist-packages (from ipykernel>=4.5.1->ipywidgets->tsfm_public==0.2.19.dev7+g397c895) (5.7.2)\n",
            "Requirement already satisfied: matplotlib-inline>=0.1 in /usr/local/lib/python3.11/dist-packages (from ipykernel>=4.5.1->ipywidgets->tsfm_public==0.2.19.dev7+g397c895) (0.1.7)\n",
            "Requirement already satisfied: nest-asyncio in /usr/local/lib/python3.11/dist-packages (from ipykernel>=4.5.1->ipywidgets->tsfm_public==0.2.19.dev7+g397c895) (1.6.0)\n",
            "Requirement already satisfied: pyzmq>=24 in /usr/local/lib/python3.11/dist-packages (from ipykernel>=4.5.1->ipywidgets->tsfm_public==0.2.19.dev7+g397c895) (24.0.1)\n",
            "Requirement already satisfied: tornado>=6.1 in /usr/local/lib/python3.11/dist-packages (from ipykernel>=4.5.1->ipywidgets->tsfm_public==0.2.19.dev7+g397c895) (6.4.2)\n",
            "Requirement already satisfied: jedi>=0.16 in /usr/local/lib/python3.11/dist-packages (from ipython>=4.0.0->ipywidgets->tsfm_public==0.2.19.dev7+g397c895) (0.19.2)\n",
            "Requirement already satisfied: decorator in /usr/local/lib/python3.11/dist-packages (from ipython>=4.0.0->ipywidgets->tsfm_public==0.2.19.dev7+g397c895) (4.4.2)\n",
            "Requirement already satisfied: pickleshare in /usr/local/lib/python3.11/dist-packages (from ipython>=4.0.0->ipywidgets->tsfm_public==0.2.19.dev7+g397c895) (0.7.5)\n",
            "Requirement already satisfied: prompt-toolkit!=3.0.0,!=3.0.1,<3.1.0,>=2.0.0 in /usr/local/lib/python3.11/dist-packages (from ipython>=4.0.0->ipywidgets->tsfm_public==0.2.19.dev7+g397c895) (3.0.50)\n",
            "Requirement already satisfied: pygments in /usr/local/lib/python3.11/dist-packages (from ipython>=4.0.0->ipywidgets->tsfm_public==0.2.19.dev7+g397c895) (2.18.0)\n",
            "Requirement already satisfied: backcall in /usr/local/lib/python3.11/dist-packages (from ipython>=4.0.0->ipywidgets->tsfm_public==0.2.19.dev7+g397c895) (0.2.0)\n",
            "Requirement already satisfied: pexpect>4.3 in /usr/local/lib/python3.11/dist-packages (from ipython>=4.0.0->ipywidgets->tsfm_public==0.2.19.dev7+g397c895) (4.9.0)\n",
            "Requirement already satisfied: charset-normalizer<4,>=2 in /usr/local/lib/python3.11/dist-packages (from requests->transformers>=4.38.0->transformers[torch]>=4.38.0->tsfm_public==0.2.19.dev7+g397c895) (3.4.1)\n",
            "Requirement already satisfied: idna<4,>=2.5 in /usr/local/lib/python3.11/dist-packages (from requests->transformers>=4.38.0->transformers[torch]>=4.38.0->tsfm_public==0.2.19.dev7+g397c895) (3.10)\n",
            "Requirement already satisfied: certifi>=2017.4.17 in /usr/local/lib/python3.11/dist-packages (from requests->transformers>=4.38.0->transformers[torch]>=4.38.0->tsfm_public==0.2.19.dev7+g397c895) (2024.12.14)\n",
            "Requirement already satisfied: networkx in /usr/local/lib/python3.11/dist-packages (from torch->transformers[torch]>=4.38.0->tsfm_public==0.2.19.dev7+g397c895) (3.4.2)\n",
            "Requirement already satisfied: jinja2 in /usr/local/lib/python3.11/dist-packages (from torch->transformers[torch]>=4.38.0->tsfm_public==0.2.19.dev7+g397c895) (3.1.5)\n",
            "Requirement already satisfied: nvidia-cuda-nvrtc-cu12==12.4.127 in /usr/local/lib/python3.11/dist-packages (from torch->transformers[torch]>=4.38.0->tsfm_public==0.2.19.dev7+g397c895) (12.4.127)\n",
            "Requirement already satisfied: nvidia-cuda-runtime-cu12==12.4.127 in /usr/local/lib/python3.11/dist-packages (from torch->transformers[torch]>=4.38.0->tsfm_public==0.2.19.dev7+g397c895) (12.4.127)\n",
            "Requirement already satisfied: nvidia-cuda-cupti-cu12==12.4.127 in /usr/local/lib/python3.11/dist-packages (from torch->transformers[torch]>=4.38.0->tsfm_public==0.2.19.dev7+g397c895) (12.4.127)\n",
            "Requirement already satisfied: nvidia-cudnn-cu12==9.1.0.70 in /usr/local/lib/python3.11/dist-packages (from torch->transformers[torch]>=4.38.0->tsfm_public==0.2.19.dev7+g397c895) (9.1.0.70)\n",
            "Requirement already satisfied: nvidia-cublas-cu12==12.4.5.8 in /usr/local/lib/python3.11/dist-packages (from torch->transformers[torch]>=4.38.0->tsfm_public==0.2.19.dev7+g397c895) (12.4.5.8)\n",
            "Requirement already satisfied: nvidia-cufft-cu12==11.2.1.3 in /usr/local/lib/python3.11/dist-packages (from torch->transformers[torch]>=4.38.0->tsfm_public==0.2.19.dev7+g397c895) (11.2.1.3)\n",
            "Requirement already satisfied: nvidia-curand-cu12==10.3.5.147 in /usr/local/lib/python3.11/dist-packages (from torch->transformers[torch]>=4.38.0->tsfm_public==0.2.19.dev7+g397c895) (10.3.5.147)\n",
            "Requirement already satisfied: nvidia-cusolver-cu12==11.6.1.9 in /usr/local/lib/python3.11/dist-packages (from torch->transformers[torch]>=4.38.0->tsfm_public==0.2.19.dev7+g397c895) (11.6.1.9)\n",
            "Requirement already satisfied: nvidia-cusparse-cu12==12.3.1.170 in /usr/local/lib/python3.11/dist-packages (from torch->transformers[torch]>=4.38.0->tsfm_public==0.2.19.dev7+g397c895) (12.3.1.170)\n",
            "Requirement already satisfied: nvidia-nccl-cu12==2.21.5 in /usr/local/lib/python3.11/dist-packages (from torch->transformers[torch]>=4.38.0->tsfm_public==0.2.19.dev7+g397c895) (2.21.5)\n",
            "Requirement already satisfied: nvidia-nvtx-cu12==12.4.127 in /usr/local/lib/python3.11/dist-packages (from torch->transformers[torch]>=4.38.0->tsfm_public==0.2.19.dev7+g397c895) (12.4.127)\n",
            "Requirement already satisfied: nvidia-nvjitlink-cu12==12.4.127 in /usr/local/lib/python3.11/dist-packages (from torch->transformers[torch]>=4.38.0->tsfm_public==0.2.19.dev7+g397c895) (12.4.127)\n",
            "Requirement already satisfied: triton==3.1.0 in /usr/local/lib/python3.11/dist-packages (from torch->transformers[torch]>=4.38.0->tsfm_public==0.2.19.dev7+g397c895) (3.1.0)\n",
            "Requirement already satisfied: sympy==1.13.1 in /usr/local/lib/python3.11/dist-packages (from torch->transformers[torch]>=4.38.0->tsfm_public==0.2.19.dev7+g397c895) (1.13.1)\n",
            "Requirement already satisfied: mpmath<1.4,>=1.1.0 in /usr/local/lib/python3.11/dist-packages (from sympy==1.13.1->torch->transformers[torch]>=4.38.0->tsfm_public==0.2.19.dev7+g397c895) (1.3.0)\n",
            "Requirement already satisfied: MarkupSafe>=2.1.1 in /usr/local/lib/python3.11/dist-packages (from werkzeug>=1.0.1->tensorboard->tsfm_public==0.2.19.dev7+g397c895) (3.0.2)\n",
            "Requirement already satisfied: argon2-cffi in /usr/local/lib/python3.11/dist-packages (from notebook->jupyter->tsfm_public==0.2.19.dev7+g397c895) (23.1.0)\n",
            "Requirement already satisfied: nbformat in /usr/local/lib/python3.11/dist-packages (from notebook->jupyter->tsfm_public==0.2.19.dev7+g397c895) (5.10.4)\n",
            "Requirement already satisfied: Send2Trash>=1.8.0 in /usr/local/lib/python3.11/dist-packages (from notebook->jupyter->tsfm_public==0.2.19.dev7+g397c895) (1.8.3)\n",
            "Requirement already satisfied: terminado>=0.8.3 in /usr/local/lib/python3.11/dist-packages (from notebook->jupyter->tsfm_public==0.2.19.dev7+g397c895) (0.18.1)\n",
            "Requirement already satisfied: prometheus-client in /usr/local/lib/python3.11/dist-packages (from notebook->jupyter->tsfm_public==0.2.19.dev7+g397c895) (0.21.1)\n",
            "Requirement already satisfied: nbclassic>=0.4.7 in /usr/local/lib/python3.11/dist-packages (from notebook->jupyter->tsfm_public==0.2.19.dev7+g397c895) (1.2.0)\n",
            "Requirement already satisfied: beautifulsoup4 in /usr/local/lib/python3.11/dist-packages (from nbconvert->jupyter->tsfm_public==0.2.19.dev7+g397c895) (4.12.3)\n",
            "Requirement already satisfied: bleach!=5.0.0 in /usr/local/lib/python3.11/dist-packages (from bleach[css]!=5.0.0->nbconvert->jupyter->tsfm_public==0.2.19.dev7+g397c895) (6.2.0)\n",
            "Requirement already satisfied: defusedxml in /usr/local/lib/python3.11/dist-packages (from nbconvert->jupyter->tsfm_public==0.2.19.dev7+g397c895) (0.7.1)\n",
            "Requirement already satisfied: jupyterlab-pygments in /usr/local/lib/python3.11/dist-packages (from nbconvert->jupyter->tsfm_public==0.2.19.dev7+g397c895) (0.3.0)\n",
            "Requirement already satisfied: mistune<4,>=2.0.3 in /usr/local/lib/python3.11/dist-packages (from nbconvert->jupyter->tsfm_public==0.2.19.dev7+g397c895) (3.1.1)\n",
            "Requirement already satisfied: nbclient>=0.5.0 in /usr/local/lib/python3.11/dist-packages (from nbconvert->jupyter->tsfm_public==0.2.19.dev7+g397c895) (0.10.2)\n",
            "Requirement already satisfied: pandocfilters>=1.4.1 in /usr/local/lib/python3.11/dist-packages (from nbconvert->jupyter->tsfm_public==0.2.19.dev7+g397c895) (1.5.1)\n",
            "Requirement already satisfied: async-lru>=1.0.0 in /usr/local/lib/python3.11/dist-packages (from jupyterlab->jupyter->tsfm_public==0.2.19.dev7+g397c895) (2.0.4)\n",
            "Requirement already satisfied: httpx>=0.25.0 in /usr/local/lib/python3.11/dist-packages (from jupyterlab->jupyter->tsfm_public==0.2.19.dev7+g397c895) (0.28.1)\n",
            "Requirement already satisfied: jupyter-lsp>=2.0.0 in /usr/local/lib/python3.11/dist-packages (from jupyterlab->jupyter->tsfm_public==0.2.19.dev7+g397c895) (2.2.5)\n",
            "Requirement already satisfied: jupyter-server<3,>=2.4.0 in /usr/local/lib/python3.11/dist-packages (from jupyterlab->jupyter->tsfm_public==0.2.19.dev7+g397c895) (2.15.0)\n",
            "Requirement already satisfied: jupyterlab-server<3,>=2.27.1 in /usr/local/lib/python3.11/dist-packages (from jupyterlab->jupyter->tsfm_public==0.2.19.dev7+g397c895) (2.27.3)\n",
            "Requirement already satisfied: notebook-shim>=0.2 in /usr/local/lib/python3.11/dist-packages (from jupyterlab->jupyter->tsfm_public==0.2.19.dev7+g397c895) (0.2.4)\n",
            "Requirement already satisfied: webencodings in /usr/local/lib/python3.11/dist-packages (from bleach!=5.0.0->bleach[css]!=5.0.0->nbconvert->jupyter->tsfm_public==0.2.19.dev7+g397c895) (0.5.1)\n",
            "Requirement already satisfied: tinycss2<1.5,>=1.1.0 in /usr/local/lib/python3.11/dist-packages (from bleach[css]!=5.0.0->nbconvert->jupyter->tsfm_public==0.2.19.dev7+g397c895) (1.4.0)\n",
            "Requirement already satisfied: anyio in /usr/local/lib/python3.11/dist-packages (from httpx>=0.25.0->jupyterlab->jupyter->tsfm_public==0.2.19.dev7+g397c895) (3.7.1)\n",
            "Requirement already satisfied: httpcore==1.* in /usr/local/lib/python3.11/dist-packages (from httpx>=0.25.0->jupyterlab->jupyter->tsfm_public==0.2.19.dev7+g397c895) (1.0.7)\n",
            "Requirement already satisfied: h11<0.15,>=0.13 in /usr/local/lib/python3.11/dist-packages (from httpcore==1.*->httpx>=0.25.0->jupyterlab->jupyter->tsfm_public==0.2.19.dev7+g397c895) (0.14.0)\n",
            "Requirement already satisfied: parso<0.9.0,>=0.8.4 in /usr/local/lib/python3.11/dist-packages (from jedi>=0.16->ipython>=4.0.0->ipywidgets->tsfm_public==0.2.19.dev7+g397c895) (0.8.4)\n",
            "Requirement already satisfied: entrypoints in /usr/local/lib/python3.11/dist-packages (from jupyter-client>=6.1.12->ipykernel>=4.5.1->ipywidgets->tsfm_public==0.2.19.dev7+g397c895) (0.4)\n",
            "Requirement already satisfied: platformdirs>=2.5 in /usr/local/lib/python3.11/dist-packages (from jupyter-core!=5.0.*,>=4.12->ipykernel>=4.5.1->ipywidgets->tsfm_public==0.2.19.dev7+g397c895) (4.3.6)\n",
            "Requirement already satisfied: jupyter-events>=0.11.0 in /usr/local/lib/python3.11/dist-packages (from jupyter-server<3,>=2.4.0->jupyterlab->jupyter->tsfm_public==0.2.19.dev7+g397c895) (0.11.0)\n",
            "Requirement already satisfied: jupyter-server-terminals>=0.4.4 in /usr/local/lib/python3.11/dist-packages (from jupyter-server<3,>=2.4.0->jupyterlab->jupyter->tsfm_public==0.2.19.dev7+g397c895) (0.5.3)\n",
            "Requirement already satisfied: overrides>=5.0 in /usr/local/lib/python3.11/dist-packages (from jupyter-server<3,>=2.4.0->jupyterlab->jupyter->tsfm_public==0.2.19.dev7+g397c895) (7.7.0)\n",
            "Requirement already satisfied: websocket-client>=1.7 in /usr/local/lib/python3.11/dist-packages (from jupyter-server<3,>=2.4.0->jupyterlab->jupyter->tsfm_public==0.2.19.dev7+g397c895) (1.8.0)\n",
            "Requirement already satisfied: argon2-cffi-bindings in /usr/local/lib/python3.11/dist-packages (from argon2-cffi->notebook->jupyter->tsfm_public==0.2.19.dev7+g397c895) (21.2.0)\n",
            "Requirement already satisfied: babel>=2.10 in /usr/local/lib/python3.11/dist-packages (from jupyterlab-server<3,>=2.27.1->jupyterlab->jupyter->tsfm_public==0.2.19.dev7+g397c895) (2.16.0)\n",
            "Requirement already satisfied: json5>=0.9.0 in /usr/local/lib/python3.11/dist-packages (from jupyterlab-server<3,>=2.27.1->jupyterlab->jupyter->tsfm_public==0.2.19.dev7+g397c895) (0.10.0)\n",
            "Requirement already satisfied: jsonschema>=4.18.0 in /usr/local/lib/python3.11/dist-packages (from jupyterlab-server<3,>=2.27.1->jupyterlab->jupyter->tsfm_public==0.2.19.dev7+g397c895) (4.23.0)\n",
            "Requirement already satisfied: fastjsonschema>=2.15 in /usr/local/lib/python3.11/dist-packages (from nbformat->notebook->jupyter->tsfm_public==0.2.19.dev7+g397c895) (2.21.1)\n",
            "Requirement already satisfied: ptyprocess>=0.5 in /usr/local/lib/python3.11/dist-packages (from pexpect>4.3->ipython>=4.0.0->ipywidgets->tsfm_public==0.2.19.dev7+g397c895) (0.7.0)\n",
            "Requirement already satisfied: wcwidth in /usr/local/lib/python3.11/dist-packages (from prompt-toolkit!=3.0.0,!=3.0.1,<3.1.0,>=2.0.0->ipython>=4.0.0->ipywidgets->tsfm_public==0.2.19.dev7+g397c895) (0.2.13)\n",
            "Requirement already satisfied: soupsieve>1.2 in /usr/local/lib/python3.11/dist-packages (from beautifulsoup4->nbconvert->jupyter->tsfm_public==0.2.19.dev7+g397c895) (2.6)\n",
            "Requirement already satisfied: sniffio>=1.1 in /usr/local/lib/python3.11/dist-packages (from anyio->httpx>=0.25.0->jupyterlab->jupyter->tsfm_public==0.2.19.dev7+g397c895) (1.3.1)\n",
            "Requirement already satisfied: jsonschema-specifications>=2023.03.6 in /usr/local/lib/python3.11/dist-packages (from jsonschema>=4.18.0->jupyterlab-server<3,>=2.27.1->jupyterlab->jupyter->tsfm_public==0.2.19.dev7+g397c895) (2024.10.1)\n",
            "Requirement already satisfied: referencing>=0.28.4 in /usr/local/lib/python3.11/dist-packages (from jsonschema>=4.18.0->jupyterlab-server<3,>=2.27.1->jupyterlab->jupyter->tsfm_public==0.2.19.dev7+g397c895) (0.36.2)\n",
            "Requirement already satisfied: rpds-py>=0.7.1 in /usr/local/lib/python3.11/dist-packages (from jsonschema>=4.18.0->jupyterlab-server<3,>=2.27.1->jupyterlab->jupyter->tsfm_public==0.2.19.dev7+g397c895) (0.22.3)\n",
            "Requirement already satisfied: python-json-logger>=2.0.4 in /usr/local/lib/python3.11/dist-packages (from jupyter-events>=0.11.0->jupyter-server<3,>=2.4.0->jupyterlab->jupyter->tsfm_public==0.2.19.dev7+g397c895) (3.2.1)\n",
            "Requirement already satisfied: rfc3339-validator in /usr/local/lib/python3.11/dist-packages (from jupyter-events>=0.11.0->jupyter-server<3,>=2.4.0->jupyterlab->jupyter->tsfm_public==0.2.19.dev7+g397c895) (0.1.4)\n",
            "Requirement already satisfied: rfc3986-validator>=0.1.1 in /usr/local/lib/python3.11/dist-packages (from jupyter-events>=0.11.0->jupyter-server<3,>=2.4.0->jupyterlab->jupyter->tsfm_public==0.2.19.dev7+g397c895) (0.1.1)\n",
            "Requirement already satisfied: cffi>=1.0.1 in /usr/local/lib/python3.11/dist-packages (from argon2-cffi-bindings->argon2-cffi->notebook->jupyter->tsfm_public==0.2.19.dev7+g397c895) (1.17.1)\n",
            "Requirement already satisfied: pycparser in /usr/local/lib/python3.11/dist-packages (from cffi>=1.0.1->argon2-cffi-bindings->argon2-cffi->notebook->jupyter->tsfm_public==0.2.19.dev7+g397c895) (2.22)\n",
            "Requirement already satisfied: fqdn in /usr/local/lib/python3.11/dist-packages (from jsonschema[format-nongpl]>=4.18.0->jupyter-events>=0.11.0->jupyter-server<3,>=2.4.0->jupyterlab->jupyter->tsfm_public==0.2.19.dev7+g397c895) (1.5.1)\n",
            "Requirement already satisfied: isoduration in /usr/local/lib/python3.11/dist-packages (from jsonschema[format-nongpl]>=4.18.0->jupyter-events>=0.11.0->jupyter-server<3,>=2.4.0->jupyterlab->jupyter->tsfm_public==0.2.19.dev7+g397c895) (20.11.0)\n",
            "Requirement already satisfied: jsonpointer>1.13 in /usr/local/lib/python3.11/dist-packages (from jsonschema[format-nongpl]>=4.18.0->jupyter-events>=0.11.0->jupyter-server<3,>=2.4.0->jupyterlab->jupyter->tsfm_public==0.2.19.dev7+g397c895) (3.0.0)\n",
            "Requirement already satisfied: uri-template in /usr/local/lib/python3.11/dist-packages (from jsonschema[format-nongpl]>=4.18.0->jupyter-events>=0.11.0->jupyter-server<3,>=2.4.0->jupyterlab->jupyter->tsfm_public==0.2.19.dev7+g397c895) (1.3.0)\n",
            "Requirement already satisfied: webcolors>=24.6.0 in /usr/local/lib/python3.11/dist-packages (from jsonschema[format-nongpl]>=4.18.0->jupyter-events>=0.11.0->jupyter-server<3,>=2.4.0->jupyterlab->jupyter->tsfm_public==0.2.19.dev7+g397c895) (24.11.1)\n",
            "Requirement already satisfied: arrow>=0.15.0 in /usr/local/lib/python3.11/dist-packages (from isoduration->jsonschema[format-nongpl]>=4.18.0->jupyter-events>=0.11.0->jupyter-server<3,>=2.4.0->jupyterlab->jupyter->tsfm_public==0.2.19.dev7+g397c895) (1.3.0)\n",
            "Requirement already satisfied: types-python-dateutil>=2.8.10 in /usr/local/lib/python3.11/dist-packages (from arrow>=0.15.0->isoduration->jsonschema[format-nongpl]>=4.18.0->jupyter-events>=0.11.0->jupyter-server<3,>=2.4.0->jupyterlab->jupyter->tsfm_public==0.2.19.dev7+g397c895) (2.9.0.20241206)\n",
            "Building wheels for collected packages: tsfm_public\n",
            "  Building wheel for tsfm_public (pyproject.toml) ... \u001b[?25l\u001b[?25hdone\n",
            "  Created wheel for tsfm_public: filename=tsfm_public-0.2.19.dev7+g397c895-py3-none-any.whl size=2338172 sha256=cb496dd115c2a59e3db4518daf5c317ec0727a3d49e9dbafcd3e3b0c7022017e\n",
            "  Stored in directory: /tmp/pip-ephem-wheel-cache-9h574p8s/wheels/b0/e9/d5/46ac6e5f659a03cfc8e396b992ac1b7e0c0bd1e34c7f5fe8e4\n",
            "Successfully built tsfm_public\n",
            "Installing collected packages: tsfm_public\n",
            "  Attempting uninstall: tsfm_public\n",
            "    Found existing installation: tsfm_public 0.2.19.dev7+g397c895\n",
            "    Uninstalling tsfm_public-0.2.19.dev7+g397c895:\n",
            "      Successfully uninstalled tsfm_public-0.2.19.dev7+g397c895\n",
            "Successfully installed tsfm_public-0.2.19.dev7+g397c895\n"
          ]
        }
      ]
    },
    {
      "cell_type": "markdown",
      "source": [
        "Import Libraries"
      ],
      "metadata": {
        "id": "RbEr0sqAof7t"
      }
    },
    {
      "cell_type": "code",
      "source": [
        "# Standard\n",
        "import os\n",
        "import math\n",
        "import tempfile\n",
        "import torch\n",
        "\n",
        "# Third Party\n",
        "from torch.optim import AdamW\n",
        "from torch.optim.lr_scheduler import OneCycleLR\n",
        "from transformers import EarlyStoppingCallback, Trainer, TrainingArguments, set_seed\n",
        "import numpy as np\n",
        "import pandas as pd\n",
        "\n",
        "\n",
        "\n",
        "\n",
        "# Local\n",
        "from tsfm_public.models.tinytimemixer import TinyTimeMixerForPrediction\n",
        "from tsfm_public.toolkit.callbacks import TrackingCallback"
      ],
      "metadata": {
        "id": "cHerGFoaojuM"
      },
      "execution_count": 12,
      "outputs": []
    },
    {
      "cell_type": "code",
      "source": [
        "# First Party\n",
        "from tsfm_public import count_parameters\n",
        "\n",
        "from tsfm_public.toolkit.visualization import plot_predictions as plot_preds"
      ],
      "metadata": {
        "id": "nXxShwPJrMjf"
      },
      "execution_count": 14,
      "outputs": []
    },
    {
      "cell_type": "markdown",
      "source": [
        "#Important Arguments"
      ],
      "metadata": {
        "id": "GKhg-cyMsJsM"
      }
    },
    {
      "cell_type": "code",
      "source": [
        "# Set seed for reproducibility\n",
        "SEED = 42\n",
        "set_seed(SEED)\n",
        "\n",
        "# DATA ROOT PATH\n",
        "# Make sure to download the target data (here ettm2) on the `DATA_ROOT_PATH` folder.\n",
        "# ETT is available at: https://github.com/zhouhaoyi/ETDataset/tree/main\n",
        "target_dataset = \"beatrice\"\n",
        "DATA_ROOT_PATH = \"/content/drive/MyDrive/Windmill project/Beatrice.csv\"\n",
        "\n",
        "# Results dir\n",
        "OUT_DIR = \"ttm_finetuned_models/\"\n",
        "\n",
        "# TTM model branch\n",
        "# Use main for 512-96 model\n",
        "# Use \"1024_96_v1\" for 1024-96 model\n",
        "TTM_MODEL_REVISION = \"main\"\n",
        "\n",
        "# Forecasting parameters\n",
        "context_length = 512\n",
        "forecast_length = 96\n",
        "fewshot_fraction = 0.05"
      ],
      "metadata": {
        "id": "ONS_YMk1sNjM"
      },
      "execution_count": 16,
      "outputs": []
    },
    {
      "cell_type": "markdown",
      "source": [
        "#Get data"
      ],
      "metadata": {
        "id": "zgBHAvQDoZcE"
      }
    },
    {
      "cell_type": "code",
      "source": [
        "# Load the data file and see the columns\n",
        "data = pd.read_csv(DATA_ROOT_PATH,parse_dates=['time'])\n",
        "data"
      ],
      "metadata": {
        "colab": {
          "base_uri": "https://localhost:8080/",
          "height": 614
        },
        "id": "YLGcKy7Noepc",
        "outputId": "e5e46105-8d65-41d3-b153-7e9ddc01c3b8"
      },
      "execution_count": 24,
      "outputs": [
        {
          "output_type": "execute_result",
          "data": {
            "text/plain": [
              "        Unnamed: 0              time      u100       v100       fsr  \\\n",
              "0                0  01-01-1980 00:00  1.808975 -10.229706  0.000261   \n",
              "1                1  01-01-1980 01:00  1.916092 -10.346832  0.000242   \n",
              "2                2  01-01-1980 02:00  1.940201 -10.212601  0.000230   \n",
              "3                3  01-01-1980 03:00  2.296951 -10.099304  0.000224   \n",
              "4                4  01-01-1980 04:00  2.725143 -10.351501  0.000238   \n",
              "...            ...               ...       ...        ...       ...   \n",
              "350635      350635  31-12-2019 19:00  5.339706   5.910355  0.000109   \n",
              "350636      350636  31-12-2019 20:00  5.571014   5.264069  0.000092   \n",
              "350637      350637  31-12-2019 21:00  5.881805   5.061096  0.000089   \n",
              "350638      350638  31-12-2019 22:00  5.934189   4.434921  0.000077   \n",
              "350639      350639  31-12-2019 23:00  5.984100   5.225739  0.000091   \n",
              "\n",
              "        Windspeed  Scaled_Windspeed_(at_90m)  Wind_Direction  \\\n",
              "0       10.388420                  10.150733      100.028260   \n",
              "1       10.522754                  10.281994      100.491540   \n",
              "2       10.395267                  10.157425      100.756920   \n",
              "3       10.357217                  10.120245      102.813194   \n",
              "4       10.704205                  10.459293      104.749070   \n",
              "...           ...                        ...             ...   \n",
              "350635   7.965221                   7.782983      227.903780   \n",
              "350636   7.664634                   7.489274      223.377300   \n",
              "350637   7.759531                   7.582000      220.710890   \n",
              "350638   7.408314                   7.238819      216.772630   \n",
              "350639   7.944671                   7.762904      221.129760   \n",
              "\n",
              "        Power_of_SWT-7.0-154  Turn_off      Power  \n",
              "0                  378.95800         1  378.95800  \n",
              "1                  390.87520         1  390.87520  \n",
              "2                  379.56732         1  379.56732  \n",
              "3                  376.18005         1  376.18005  \n",
              "4                  406.82446         1  406.82446  \n",
              "...                      ...       ...        ...  \n",
              "350635             176.63489         1  176.63489  \n",
              "350636             156.59825         1  156.59825  \n",
              "350637             162.77127         1  162.77127  \n",
              "350638             140.61679         1  140.61679  \n",
              "350639             175.21983         1  175.21983  \n",
              "\n",
              "[350640 rows x 11 columns]"
            ],
            "text/html": [
              "\n",
              "  <div id=\"df-0fcb92c8-83fe-47bd-8c5b-c474b75efd48\" class=\"colab-df-container\">\n",
              "    <div>\n",
              "<style scoped>\n",
              "    .dataframe tbody tr th:only-of-type {\n",
              "        vertical-align: middle;\n",
              "    }\n",
              "\n",
              "    .dataframe tbody tr th {\n",
              "        vertical-align: top;\n",
              "    }\n",
              "\n",
              "    .dataframe thead th {\n",
              "        text-align: right;\n",
              "    }\n",
              "</style>\n",
              "<table border=\"1\" class=\"dataframe\">\n",
              "  <thead>\n",
              "    <tr style=\"text-align: right;\">\n",
              "      <th></th>\n",
              "      <th>Unnamed: 0</th>\n",
              "      <th>time</th>\n",
              "      <th>u100</th>\n",
              "      <th>v100</th>\n",
              "      <th>fsr</th>\n",
              "      <th>Windspeed</th>\n",
              "      <th>Scaled_Windspeed_(at_90m)</th>\n",
              "      <th>Wind_Direction</th>\n",
              "      <th>Power_of_SWT-7.0-154</th>\n",
              "      <th>Turn_off</th>\n",
              "      <th>Power</th>\n",
              "    </tr>\n",
              "  </thead>\n",
              "  <tbody>\n",
              "    <tr>\n",
              "      <th>0</th>\n",
              "      <td>0</td>\n",
              "      <td>01-01-1980 00:00</td>\n",
              "      <td>1.808975</td>\n",
              "      <td>-10.229706</td>\n",
              "      <td>0.000261</td>\n",
              "      <td>10.388420</td>\n",
              "      <td>10.150733</td>\n",
              "      <td>100.028260</td>\n",
              "      <td>378.95800</td>\n",
              "      <td>1</td>\n",
              "      <td>378.95800</td>\n",
              "    </tr>\n",
              "    <tr>\n",
              "      <th>1</th>\n",
              "      <td>1</td>\n",
              "      <td>01-01-1980 01:00</td>\n",
              "      <td>1.916092</td>\n",
              "      <td>-10.346832</td>\n",
              "      <td>0.000242</td>\n",
              "      <td>10.522754</td>\n",
              "      <td>10.281994</td>\n",
              "      <td>100.491540</td>\n",
              "      <td>390.87520</td>\n",
              "      <td>1</td>\n",
              "      <td>390.87520</td>\n",
              "    </tr>\n",
              "    <tr>\n",
              "      <th>2</th>\n",
              "      <td>2</td>\n",
              "      <td>01-01-1980 02:00</td>\n",
              "      <td>1.940201</td>\n",
              "      <td>-10.212601</td>\n",
              "      <td>0.000230</td>\n",
              "      <td>10.395267</td>\n",
              "      <td>10.157425</td>\n",
              "      <td>100.756920</td>\n",
              "      <td>379.56732</td>\n",
              "      <td>1</td>\n",
              "      <td>379.56732</td>\n",
              "    </tr>\n",
              "    <tr>\n",
              "      <th>3</th>\n",
              "      <td>3</td>\n",
              "      <td>01-01-1980 03:00</td>\n",
              "      <td>2.296951</td>\n",
              "      <td>-10.099304</td>\n",
              "      <td>0.000224</td>\n",
              "      <td>10.357217</td>\n",
              "      <td>10.120245</td>\n",
              "      <td>102.813194</td>\n",
              "      <td>376.18005</td>\n",
              "      <td>1</td>\n",
              "      <td>376.18005</td>\n",
              "    </tr>\n",
              "    <tr>\n",
              "      <th>4</th>\n",
              "      <td>4</td>\n",
              "      <td>01-01-1980 04:00</td>\n",
              "      <td>2.725143</td>\n",
              "      <td>-10.351501</td>\n",
              "      <td>0.000238</td>\n",
              "      <td>10.704205</td>\n",
              "      <td>10.459293</td>\n",
              "      <td>104.749070</td>\n",
              "      <td>406.82446</td>\n",
              "      <td>1</td>\n",
              "      <td>406.82446</td>\n",
              "    </tr>\n",
              "    <tr>\n",
              "      <th>...</th>\n",
              "      <td>...</td>\n",
              "      <td>...</td>\n",
              "      <td>...</td>\n",
              "      <td>...</td>\n",
              "      <td>...</td>\n",
              "      <td>...</td>\n",
              "      <td>...</td>\n",
              "      <td>...</td>\n",
              "      <td>...</td>\n",
              "      <td>...</td>\n",
              "      <td>...</td>\n",
              "    </tr>\n",
              "    <tr>\n",
              "      <th>350635</th>\n",
              "      <td>350635</td>\n",
              "      <td>31-12-2019 19:00</td>\n",
              "      <td>5.339706</td>\n",
              "      <td>5.910355</td>\n",
              "      <td>0.000109</td>\n",
              "      <td>7.965221</td>\n",
              "      <td>7.782983</td>\n",
              "      <td>227.903780</td>\n",
              "      <td>176.63489</td>\n",
              "      <td>1</td>\n",
              "      <td>176.63489</td>\n",
              "    </tr>\n",
              "    <tr>\n",
              "      <th>350636</th>\n",
              "      <td>350636</td>\n",
              "      <td>31-12-2019 20:00</td>\n",
              "      <td>5.571014</td>\n",
              "      <td>5.264069</td>\n",
              "      <td>0.000092</td>\n",
              "      <td>7.664634</td>\n",
              "      <td>7.489274</td>\n",
              "      <td>223.377300</td>\n",
              "      <td>156.59825</td>\n",
              "      <td>1</td>\n",
              "      <td>156.59825</td>\n",
              "    </tr>\n",
              "    <tr>\n",
              "      <th>350637</th>\n",
              "      <td>350637</td>\n",
              "      <td>31-12-2019 21:00</td>\n",
              "      <td>5.881805</td>\n",
              "      <td>5.061096</td>\n",
              "      <td>0.000089</td>\n",
              "      <td>7.759531</td>\n",
              "      <td>7.582000</td>\n",
              "      <td>220.710890</td>\n",
              "      <td>162.77127</td>\n",
              "      <td>1</td>\n",
              "      <td>162.77127</td>\n",
              "    </tr>\n",
              "    <tr>\n",
              "      <th>350638</th>\n",
              "      <td>350638</td>\n",
              "      <td>31-12-2019 22:00</td>\n",
              "      <td>5.934189</td>\n",
              "      <td>4.434921</td>\n",
              "      <td>0.000077</td>\n",
              "      <td>7.408314</td>\n",
              "      <td>7.238819</td>\n",
              "      <td>216.772630</td>\n",
              "      <td>140.61679</td>\n",
              "      <td>1</td>\n",
              "      <td>140.61679</td>\n",
              "    </tr>\n",
              "    <tr>\n",
              "      <th>350639</th>\n",
              "      <td>350639</td>\n",
              "      <td>31-12-2019 23:00</td>\n",
              "      <td>5.984100</td>\n",
              "      <td>5.225739</td>\n",
              "      <td>0.000091</td>\n",
              "      <td>7.944671</td>\n",
              "      <td>7.762904</td>\n",
              "      <td>221.129760</td>\n",
              "      <td>175.21983</td>\n",
              "      <td>1</td>\n",
              "      <td>175.21983</td>\n",
              "    </tr>\n",
              "  </tbody>\n",
              "</table>\n",
              "<p>350640 rows × 11 columns</p>\n",
              "</div>\n",
              "    <div class=\"colab-df-buttons\">\n",
              "\n",
              "  <div class=\"colab-df-container\">\n",
              "    <button class=\"colab-df-convert\" onclick=\"convertToInteractive('df-0fcb92c8-83fe-47bd-8c5b-c474b75efd48')\"\n",
              "            title=\"Convert this dataframe to an interactive table.\"\n",
              "            style=\"display:none;\">\n",
              "\n",
              "  <svg xmlns=\"http://www.w3.org/2000/svg\" height=\"24px\" viewBox=\"0 -960 960 960\">\n",
              "    <path d=\"M120-120v-720h720v720H120Zm60-500h600v-160H180v160Zm220 220h160v-160H400v160Zm0 220h160v-160H400v160ZM180-400h160v-160H180v160Zm440 0h160v-160H620v160ZM180-180h160v-160H180v160Zm440 0h160v-160H620v160Z\"/>\n",
              "  </svg>\n",
              "    </button>\n",
              "\n",
              "  <style>\n",
              "    .colab-df-container {\n",
              "      display:flex;\n",
              "      gap: 12px;\n",
              "    }\n",
              "\n",
              "    .colab-df-convert {\n",
              "      background-color: #E8F0FE;\n",
              "      border: none;\n",
              "      border-radius: 50%;\n",
              "      cursor: pointer;\n",
              "      display: none;\n",
              "      fill: #1967D2;\n",
              "      height: 32px;\n",
              "      padding: 0 0 0 0;\n",
              "      width: 32px;\n",
              "    }\n",
              "\n",
              "    .colab-df-convert:hover {\n",
              "      background-color: #E2EBFA;\n",
              "      box-shadow: 0px 1px 2px rgba(60, 64, 67, 0.3), 0px 1px 3px 1px rgba(60, 64, 67, 0.15);\n",
              "      fill: #174EA6;\n",
              "    }\n",
              "\n",
              "    .colab-df-buttons div {\n",
              "      margin-bottom: 4px;\n",
              "    }\n",
              "\n",
              "    [theme=dark] .colab-df-convert {\n",
              "      background-color: #3B4455;\n",
              "      fill: #D2E3FC;\n",
              "    }\n",
              "\n",
              "    [theme=dark] .colab-df-convert:hover {\n",
              "      background-color: #434B5C;\n",
              "      box-shadow: 0px 1px 3px 1px rgba(0, 0, 0, 0.15);\n",
              "      filter: drop-shadow(0px 1px 2px rgba(0, 0, 0, 0.3));\n",
              "      fill: #FFFFFF;\n",
              "    }\n",
              "  </style>\n",
              "\n",
              "    <script>\n",
              "      const buttonEl =\n",
              "        document.querySelector('#df-0fcb92c8-83fe-47bd-8c5b-c474b75efd48 button.colab-df-convert');\n",
              "      buttonEl.style.display =\n",
              "        google.colab.kernel.accessAllowed ? 'block' : 'none';\n",
              "\n",
              "      async function convertToInteractive(key) {\n",
              "        const element = document.querySelector('#df-0fcb92c8-83fe-47bd-8c5b-c474b75efd48');\n",
              "        const dataTable =\n",
              "          await google.colab.kernel.invokeFunction('convertToInteractive',\n",
              "                                                    [key], {});\n",
              "        if (!dataTable) return;\n",
              "\n",
              "        const docLinkHtml = 'Like what you see? Visit the ' +\n",
              "          '<a target=\"_blank\" href=https://colab.research.google.com/notebooks/data_table.ipynb>data table notebook</a>'\n",
              "          + ' to learn more about interactive tables.';\n",
              "        element.innerHTML = '';\n",
              "        dataTable['output_type'] = 'display_data';\n",
              "        await google.colab.output.renderOutput(dataTable, element);\n",
              "        const docLink = document.createElement('div');\n",
              "        docLink.innerHTML = docLinkHtml;\n",
              "        element.appendChild(docLink);\n",
              "      }\n",
              "    </script>\n",
              "  </div>\n",
              "\n",
              "\n",
              "<div id=\"df-f8b7e238-7673-46c3-882b-84236191cc90\">\n",
              "  <button class=\"colab-df-quickchart\" onclick=\"quickchart('df-f8b7e238-7673-46c3-882b-84236191cc90')\"\n",
              "            title=\"Suggest charts\"\n",
              "            style=\"display:none;\">\n",
              "\n",
              "<svg xmlns=\"http://www.w3.org/2000/svg\" height=\"24px\"viewBox=\"0 0 24 24\"\n",
              "     width=\"24px\">\n",
              "    <g>\n",
              "        <path d=\"M19 3H5c-1.1 0-2 .9-2 2v14c0 1.1.9 2 2 2h14c1.1 0 2-.9 2-2V5c0-1.1-.9-2-2-2zM9 17H7v-7h2v7zm4 0h-2V7h2v10zm4 0h-2v-4h2v4z\"/>\n",
              "    </g>\n",
              "</svg>\n",
              "  </button>\n",
              "\n",
              "<style>\n",
              "  .colab-df-quickchart {\n",
              "      --bg-color: #E8F0FE;\n",
              "      --fill-color: #1967D2;\n",
              "      --hover-bg-color: #E2EBFA;\n",
              "      --hover-fill-color: #174EA6;\n",
              "      --disabled-fill-color: #AAA;\n",
              "      --disabled-bg-color: #DDD;\n",
              "  }\n",
              "\n",
              "  [theme=dark] .colab-df-quickchart {\n",
              "      --bg-color: #3B4455;\n",
              "      --fill-color: #D2E3FC;\n",
              "      --hover-bg-color: #434B5C;\n",
              "      --hover-fill-color: #FFFFFF;\n",
              "      --disabled-bg-color: #3B4455;\n",
              "      --disabled-fill-color: #666;\n",
              "  }\n",
              "\n",
              "  .colab-df-quickchart {\n",
              "    background-color: var(--bg-color);\n",
              "    border: none;\n",
              "    border-radius: 50%;\n",
              "    cursor: pointer;\n",
              "    display: none;\n",
              "    fill: var(--fill-color);\n",
              "    height: 32px;\n",
              "    padding: 0;\n",
              "    width: 32px;\n",
              "  }\n",
              "\n",
              "  .colab-df-quickchart:hover {\n",
              "    background-color: var(--hover-bg-color);\n",
              "    box-shadow: 0 1px 2px rgba(60, 64, 67, 0.3), 0 1px 3px 1px rgba(60, 64, 67, 0.15);\n",
              "    fill: var(--button-hover-fill-color);\n",
              "  }\n",
              "\n",
              "  .colab-df-quickchart-complete:disabled,\n",
              "  .colab-df-quickchart-complete:disabled:hover {\n",
              "    background-color: var(--disabled-bg-color);\n",
              "    fill: var(--disabled-fill-color);\n",
              "    box-shadow: none;\n",
              "  }\n",
              "\n",
              "  .colab-df-spinner {\n",
              "    border: 2px solid var(--fill-color);\n",
              "    border-color: transparent;\n",
              "    border-bottom-color: var(--fill-color);\n",
              "    animation:\n",
              "      spin 1s steps(1) infinite;\n",
              "  }\n",
              "\n",
              "  @keyframes spin {\n",
              "    0% {\n",
              "      border-color: transparent;\n",
              "      border-bottom-color: var(--fill-color);\n",
              "      border-left-color: var(--fill-color);\n",
              "    }\n",
              "    20% {\n",
              "      border-color: transparent;\n",
              "      border-left-color: var(--fill-color);\n",
              "      border-top-color: var(--fill-color);\n",
              "    }\n",
              "    30% {\n",
              "      border-color: transparent;\n",
              "      border-left-color: var(--fill-color);\n",
              "      border-top-color: var(--fill-color);\n",
              "      border-right-color: var(--fill-color);\n",
              "    }\n",
              "    40% {\n",
              "      border-color: transparent;\n",
              "      border-right-color: var(--fill-color);\n",
              "      border-top-color: var(--fill-color);\n",
              "    }\n",
              "    60% {\n",
              "      border-color: transparent;\n",
              "      border-right-color: var(--fill-color);\n",
              "    }\n",
              "    80% {\n",
              "      border-color: transparent;\n",
              "      border-right-color: var(--fill-color);\n",
              "      border-bottom-color: var(--fill-color);\n",
              "    }\n",
              "    90% {\n",
              "      border-color: transparent;\n",
              "      border-bottom-color: var(--fill-color);\n",
              "    }\n",
              "  }\n",
              "</style>\n",
              "\n",
              "  <script>\n",
              "    async function quickchart(key) {\n",
              "      const quickchartButtonEl =\n",
              "        document.querySelector('#' + key + ' button');\n",
              "      quickchartButtonEl.disabled = true;  // To prevent multiple clicks.\n",
              "      quickchartButtonEl.classList.add('colab-df-spinner');\n",
              "      try {\n",
              "        const charts = await google.colab.kernel.invokeFunction(\n",
              "            'suggestCharts', [key], {});\n",
              "      } catch (error) {\n",
              "        console.error('Error during call to suggestCharts:', error);\n",
              "      }\n",
              "      quickchartButtonEl.classList.remove('colab-df-spinner');\n",
              "      quickchartButtonEl.classList.add('colab-df-quickchart-complete');\n",
              "    }\n",
              "    (() => {\n",
              "      let quickchartButtonEl =\n",
              "        document.querySelector('#df-f8b7e238-7673-46c3-882b-84236191cc90 button');\n",
              "      quickchartButtonEl.style.display =\n",
              "        google.colab.kernel.accessAllowed ? 'block' : 'none';\n",
              "    })();\n",
              "  </script>\n",
              "</div>\n",
              "\n",
              "  <div id=\"id_12a4ae46-8919-4438-ba7e-8d354f303f7d\">\n",
              "    <style>\n",
              "      .colab-df-generate {\n",
              "        background-color: #E8F0FE;\n",
              "        border: none;\n",
              "        border-radius: 50%;\n",
              "        cursor: pointer;\n",
              "        display: none;\n",
              "        fill: #1967D2;\n",
              "        height: 32px;\n",
              "        padding: 0 0 0 0;\n",
              "        width: 32px;\n",
              "      }\n",
              "\n",
              "      .colab-df-generate:hover {\n",
              "        background-color: #E2EBFA;\n",
              "        box-shadow: 0px 1px 2px rgba(60, 64, 67, 0.3), 0px 1px 3px 1px rgba(60, 64, 67, 0.15);\n",
              "        fill: #174EA6;\n",
              "      }\n",
              "\n",
              "      [theme=dark] .colab-df-generate {\n",
              "        background-color: #3B4455;\n",
              "        fill: #D2E3FC;\n",
              "      }\n",
              "\n",
              "      [theme=dark] .colab-df-generate:hover {\n",
              "        background-color: #434B5C;\n",
              "        box-shadow: 0px 1px 3px 1px rgba(0, 0, 0, 0.15);\n",
              "        filter: drop-shadow(0px 1px 2px rgba(0, 0, 0, 0.3));\n",
              "        fill: #FFFFFF;\n",
              "      }\n",
              "    </style>\n",
              "    <button class=\"colab-df-generate\" onclick=\"generateWithVariable('data')\"\n",
              "            title=\"Generate code using this dataframe.\"\n",
              "            style=\"display:none;\">\n",
              "\n",
              "  <svg xmlns=\"http://www.w3.org/2000/svg\" height=\"24px\"viewBox=\"0 0 24 24\"\n",
              "       width=\"24px\">\n",
              "    <path d=\"M7,19H8.4L18.45,9,17,7.55,7,17.6ZM5,21V16.75L18.45,3.32a2,2,0,0,1,2.83,0l1.4,1.43a1.91,1.91,0,0,1,.58,1.4,1.91,1.91,0,0,1-.58,1.4L9.25,21ZM18.45,9,17,7.55Zm-12,3A5.31,5.31,0,0,0,4.9,8.1,5.31,5.31,0,0,0,1,6.5,5.31,5.31,0,0,0,4.9,4.9,5.31,5.31,0,0,0,6.5,1,5.31,5.31,0,0,0,8.1,4.9,5.31,5.31,0,0,0,12,6.5,5.46,5.46,0,0,0,6.5,12Z\"/>\n",
              "  </svg>\n",
              "    </button>\n",
              "    <script>\n",
              "      (() => {\n",
              "      const buttonEl =\n",
              "        document.querySelector('#id_12a4ae46-8919-4438-ba7e-8d354f303f7d button.colab-df-generate');\n",
              "      buttonEl.style.display =\n",
              "        google.colab.kernel.accessAllowed ? 'block' : 'none';\n",
              "\n",
              "      buttonEl.onclick = () => {\n",
              "        google.colab.notebook.generateWithVariable('data');\n",
              "      }\n",
              "      })();\n",
              "    </script>\n",
              "  </div>\n",
              "\n",
              "    </div>\n",
              "  </div>\n"
            ],
            "application/vnd.google.colaboratory.intrinsic+json": {
              "type": "dataframe",
              "variable_name": "data"
            }
          },
          "metadata": {},
          "execution_count": 24
        }
      ]
    },
    {
      "cell_type": "code",
      "source": [
        "data.info()"
      ],
      "metadata": {
        "colab": {
          "base_uri": "https://localhost:8080/"
        },
        "id": "KhbxtOFQuzn2",
        "outputId": "fa489d8b-049f-4119-f598-1512247db65f"
      },
      "execution_count": 25,
      "outputs": [
        {
          "output_type": "stream",
          "name": "stdout",
          "text": [
            "<class 'pandas.core.frame.DataFrame'>\n",
            "RangeIndex: 350640 entries, 0 to 350639\n",
            "Data columns (total 11 columns):\n",
            " #   Column                     Non-Null Count   Dtype  \n",
            "---  ------                     --------------   -----  \n",
            " 0   Unnamed: 0                 350640 non-null  int64  \n",
            " 1   time                       350640 non-null  object \n",
            " 2   u100                       350640 non-null  float64\n",
            " 3   v100                       350640 non-null  float64\n",
            " 4   fsr                        350640 non-null  float64\n",
            " 5   Windspeed                  350640 non-null  float64\n",
            " 6   Scaled_Windspeed_(at_90m)  350640 non-null  float64\n",
            " 7   Wind_Direction             350640 non-null  float64\n",
            " 8   Power_of_SWT-7.0-154       350640 non-null  float64\n",
            " 9   Turn_off                   350640 non-null  int64  \n",
            " 10  Power                      350640 non-null  float64\n",
            "dtypes: float64(8), int64(2), object(1)\n",
            "memory usage: 29.4+ MB\n"
          ]
        }
      ]
    },
    {
      "cell_type": "code",
      "source": [
        "data.iloc[:1000].plot(x=\"time\", y=\"Power\", figsize=(20,5))"
      ],
      "metadata": {
        "colab": {
          "base_uri": "https://localhost:8080/",
          "height": 389
        },
        "id": "ABRd6cNhs50P",
        "outputId": "17bccc41-458e-4da2-f8c9-ad825890476c"
      },
      "execution_count": 27,
      "outputs": [
        {
          "output_type": "execute_result",
          "data": {
            "text/plain": [
              "<Axes: xlabel='time'>"
            ]
          },
          "metadata": {},
          "execution_count": 27
        },
        {
          "output_type": "display_data",
          "data": {
            "text/plain": [
              "<Figure size 2000x500 with 1 Axes>"
            ],
            "image/png": "[encoded data removed]"
          },
          "metadata": {}
        }
      ]
    },
    {
      "cell_type": "markdown",
      "source": [
        "#Initial Cleaning\n"
      ],
      "metadata": {
        "id": "AfyjQrIgt02o"
      }
    },
    {
      "cell_type": "markdown",
      "source": [
        "So we see that there is no power generated when Turn_off=0 and also Power_of_SWT-7.0-154 is same as Power.\n",
        "\n",
        "Then we can drop following Columns and row without affecting our results\n",
        "\n",
        "1. Unnamed:0\n",
        "2. Power_of_SWT-7.0-154\n",
        "3. Turn_off (After removing rows containing 0 as value)"
      ],
      "metadata": {
        "id": "7F3AR3VOuD6_"
      }
    },
    {
      "cell_type": "code",
      "source": [
        "# Drop Row containg Turn_off value=0\n",
        "data=data[data['Turn_off'] !=0]\n",
        "data['Turn_off'].value_counts()"
      ],
      "metadata": {
        "colab": {
          "base_uri": "https://localhost:8080/",
          "height": 146
        },
        "id": "ZSJrweNDuJSM",
        "outputId": "4f89a928-405d-4b5e-9700-4e6cb43c75d5"
      },
      "execution_count": 28,
      "outputs": [
        {
          "output_type": "execute_result",
          "data": {
            "text/plain": [
              "Turn_off\n",
              "1    350388\n",
              "Name: count, dtype: int64"
            ],
            "text/html": [
              "<div>\n",
              "<style scoped>\n",
              "    .dataframe tbody tr th:only-of-type {\n",
              "        vertical-align: middle;\n",
              "    }\n",
              "\n",
              "    .dataframe tbody tr th {\n",
              "        vertical-align: top;\n",
              "    }\n",
              "\n",
              "    .dataframe thead th {\n",
              "        text-align: right;\n",
              "    }\n",
              "</style>\n",
              "<table border=\"1\" class=\"dataframe\">\n",
              "  <thead>\n",
              "    <tr style=\"text-align: right;\">\n",
              "      <th></th>\n",
              "      <th>count</th>\n",
              "    </tr>\n",
              "    <tr>\n",
              "      <th>Turn_off</th>\n",
              "      <th></th>\n",
              "    </tr>\n",
              "  </thead>\n",
              "  <tbody>\n",
              "    <tr>\n",
              "      <th>1</th>\n",
              "      <td>350388</td>\n",
              "    </tr>\n",
              "  </tbody>\n",
              "</table>\n",
              "</div><br><label><b>dtype:</b> int64</label>"
            ]
          },
          "metadata": {},
          "execution_count": 28
        }
      ]
    },
    {
      "cell_type": "code",
      "source": [
        "# Drop Columns\n",
        "cols_to_drop=['Power_of_SWT-7.0-154','Unnamed: 0','Turn_off']\n",
        "data.drop(columns=cols_to_drop,inplace=True)"
      ],
      "metadata": {
        "id": "YIx1ctKLujfP"
      },
      "execution_count": null,
      "outputs": []
    },
    {
      "cell_type": "code",
      "source": [
        "data.info()"
      ],
      "metadata": {
        "colab": {
          "base_uri": "https://localhost:8080/"
        },
        "id": "uajZXvpTurHd",
        "outputId": "6caf7735-72ed-48ef-e632-2e45d1e0796c"
      },
      "execution_count": 30,
      "outputs": [
        {
          "output_type": "stream",
          "name": "stdout",
          "text": [
            "<class 'pandas.core.frame.DataFrame'>\n",
            "Index: 350388 entries, 0 to 350639\n",
            "Data columns (total 8 columns):\n",
            " #   Column                     Non-Null Count   Dtype  \n",
            "---  ------                     --------------   -----  \n",
            " 0   time                       350388 non-null  object \n",
            " 1   u100                       350388 non-null  float64\n",
            " 2   v100                       350388 non-null  float64\n",
            " 3   fsr                        350388 non-null  float64\n",
            " 4   Windspeed                  350388 non-null  float64\n",
            " 5   Scaled_Windspeed_(at_90m)  350388 non-null  float64\n",
            " 6   Wind_Direction             350388 non-null  float64\n",
            " 7   Power                      350388 non-null  float64\n",
            "dtypes: float64(7), object(1)\n",
            "memory usage: 24.1+ MB\n"
          ]
        }
      ]
    },
    {
      "cell_type": "code",
      "source": [],
      "metadata": {
        "id": "9jWhU3U4ve_t"
      },
      "execution_count": null,
      "outputs": []
    },
    {
      "cell_type": "markdown",
      "source": [
        "# Data Processing Pipeline"
      ],
      "metadata": {
        "id": "DloWRmCNte3r"
      }
    },
    {
      "cell_type": "code",
      "source": [
        "from tsfm_public.toolkit.time_series_preprocessor import TimeSeriesPreprocessor\n",
        "\n",
        "dataset_path = DATA_ROOT_PATH\n",
        "timestamp_column = \"time\"\n",
        "id_columns = []\n",
        "target_columns = [\"HUFL\", \"HULL\", \"MUFL\", \"MULL\", \"LUFL\", \"LULL\", \"OT\"]\n",
        "split_config = {\n",
        "                \"train\": [0, 12 * 30 * 24 * 4],\n",
        "                \"valid\": [12 * 30 * 24 * 4, 12 * 30 * 24 * 4 + 4 * 30 * 24 * 4],\n",
        "                \"test\": [\n",
        "                    12 * 30 * 24 * 4 + 4 * 30 * 24 * 4,\n",
        "                    12 * 30 * 24 * 4 + 8 * 30 * 24 * 4,\n",
        "                ],\n",
        "            }\n",
        "# Understanding the split config -- slides\n",
        "\n",
        "data = pd.read_csv(\n",
        "    dataset_path,\n",
        "    parse_dates=[timestamp_column],\n",
        ")\n",
        "\n",
        "column_specifiers = {\n",
        "    \"timestamp_column\": timestamp_column,\n",
        "    \"id_columns\": id_columns,\n",
        "    \"target_columns\": target_columns,\n",
        "    \"control_columns\": [],\n",
        "}\n",
        "\n",
        "tsp = TimeSeriesPreprocessor(\n",
        "    **column_specifiers,\n",
        "    context_length=context_length,\n",
        "    prediction_length=forecast_length,\n",
        "    scaling=True,\n",
        "    encode_categorical=False,\n",
        "    scaler_type=\"standard\",\n",
        ")\n",
        "\n",
        "train_dataset, valid_dataset, test_dataset = tsp.get_datasets(\n",
        "    data, split_config, fewshot_fraction=fewshot_fraction, fewshot_location=\"first\"\n",
        ")\n",
        "print(f\"Data lengths: train = {len(train_dataset)}, val = {len(valid_dataset)}, test = {len(test_dataset)}\")"
      ],
      "metadata": {
        "id": "OXWVv-LEtahC"
      },
      "execution_count": null,
      "outputs": []
    }
  ]
}